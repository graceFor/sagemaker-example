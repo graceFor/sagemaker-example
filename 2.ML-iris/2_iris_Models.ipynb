{
 "cells": [
  {
   "cell_type": "markdown",
   "metadata": {},
   "source": [
    "# 데이터 불러오기"
   ]
  },
  {
   "cell_type": "code",
   "execution_count": 15,
   "metadata": {},
   "outputs": [],
   "source": [
    "import numpy as np\n",
    "import pandas as pd\n",
    "import os\n",
    "\n",
    "# create a synthetic regression dataset of X, Y values.\n",
    "from sklearn.datasets import make_regression\n",
    "SyntheticX, SyntheticY = make_regression(n_samples=50, n_features=1, noise=10.0, random_state=17)\n",
    "\n",
    "# create a synthetic binary classification dataset with 2 features.\n",
    "from sklearn.datasets import make_classification\n",
    "Synthetic_BinaryClassX, Synthetic_BinaryClassY = make_classification(n_samples=50, n_features=2, n_redundant=0, n_classes=2)"
   ]
  },
  {
   "cell_type": "code",
   "execution_count": 16,
   "metadata": {},
   "outputs": [],
   "source": [
    "# iris dataset 불러오기\n",
    "from sklearn.datasets import load_iris\n",
    "iris_dataset = load_iris()\n",
    "df_iris_features = pd.DataFrame(data = iris_dataset.data, columns=iris_dataset.feature_names) # 설명변수 (x)\n",
    "df_iris_target = pd.DataFrame(data = iris_dataset.target, columns=['class']) # 목표변수 (y)"
   ]
  },
  {
   "cell_type": "code",
   "execution_count": 17,
   "metadata": {},
   "outputs": [],
   "source": [
    "# scaler를 통해 정규화\n",
    "from sklearn.preprocessing import MinMaxScaler\n",
    "\n",
    "iris_scaler = MinMaxScaler()\n",
    "iris_scaler.fit(df_iris_features)\n",
    "nd_iris_features = iris_scaler.transform(df_iris_features)\n",
    "df_iris_features_normalized = pd.DataFrame(data=nd_iris_features, columns=df_iris_features.columns)"
   ]
  },
  {
   "cell_type": "markdown",
   "metadata": {},
   "source": [
    "# 훈련/검증 데이터 분리"
   ]
  },
  {
   "cell_type": "code",
   "execution_count": 24,
   "metadata": {},
   "outputs": [],
   "source": [
    "# Scikit-Learn의 train_test_split 함수를 사용해서 train, test 데이터를 분리\n",
    "from sklearn.model_selection import train_test_split\n",
    "\n",
    "# iris dataset 나누기\n",
    "# 정규화된 Feature들로 데이터셋 넣기\n",
    "iris_split = train_test_split(df_iris_features_normalized, df_iris_target, test_size=0.25, random_state=17)\n",
    "\n",
    "df_iris_features_train = iris_split[0] # train 설명변수\n",
    "df_iris_features_test = iris_split[1] # test 설명변수\n",
    "df_iris_target_train = iris_split[2] # train 목표변수\n",
    "df_iris_target_test = iris_split[3] # test 목표변수"
   ]
  },
  {
   "cell_type": "markdown",
   "metadata": {},
   "source": [
    "# Multinomial Logistic Regression\n",
    "- Iris 데이터셋에 OneVsRestClassifier 클래스로 앙상블 이진 LogisticRegression 모델을 만들어 다중 분류기로 사용해보자"
   ]
  },
  {
   "cell_type": "code",
   "execution_count": 37,
   "metadata": {},
   "outputs": [],
   "source": [
    "# OVA와 LogisticRegression으로 다중 분류기 구분\n",
    "# 이진 분류 모델을 여러 개 학습시켜 다중 분류 모델을 만드는 방법\n",
    "from sklearn.multiclass import OneVsRestClassifier\n",
    "from sklearn.linear_model import LogisticRegression\n",
    "\n",
    "logit_model = LogisticRegression(penalty='l2', fit_intercept=True, solver='liblinear')\n",
    "ovr_logit_model = OneVsRestClassifier(logit_model)\n",
    "\n",
    "ovr_logit_model.fit(df_iris_features_train, df_iris_target_train.values.ravel())\n",
    "\n",
    "# 0.5 임계값으로 테스트 데이터셋에 예측 수행\n",
    "ovr_logit_predictions = ovr_logit_model.predict(df_iris_features_test)"
   ]
  },
  {
   "cell_type": "code",
   "execution_count": 38,
   "metadata": {},
   "outputs": [
    {
     "name": "stdout",
     "output_type": "stream",
     "text": [
      "[0 2 2 1 2 2 2 2 1 2 2 0 1 0 2 0 0 2 2 2 2 0 2 1 2 2 1 1 0 1 0 1 0 0 1 2 1\n",
      " 2]\n"
     ]
    }
   ],
   "source": [
    "# 예측을 수행한 결과는 0,1,2 중 하나\n",
    "print (ovr_logit_predictions)"
   ]
  },
  {
   "cell_type": "code",
   "execution_count": 39,
   "metadata": {},
   "outputs": [
    {
     "name": "stdout",
     "output_type": "stream",
     "text": [
      "[[0.82272514 0.12785864 0.04941622]\n",
      " [0.12044579 0.40056122 0.47899299]\n",
      " [0.02542865 0.32329645 0.6512749 ]\n",
      " [0.18305903 0.42111625 0.39582472]\n",
      " [0.05944138 0.38763397 0.55292465]\n",
      " [0.07236737 0.36312485 0.56450777]\n",
      " [0.16344427 0.37963956 0.45691617]\n",
      " [0.01998424 0.24601841 0.73399734]\n",
      " [0.18950936 0.48395363 0.32653701]\n",
      " [0.03663432 0.40209894 0.56126674]\n",
      " [0.02062532 0.27783051 0.70154417]\n",
      " [0.73577162 0.22066942 0.04355896]\n",
      " [0.15270279 0.42746281 0.41983439]\n",
      " [0.77216659 0.18251154 0.04532187]\n",
      " [0.05309898 0.32231709 0.62458393]\n",
      " [0.815817   0.13825926 0.04592374]\n",
      " [0.73489217 0.22191513 0.0431927 ]\n",
      " [0.04491288 0.36458749 0.59049964]\n",
      " [0.02065056 0.27871118 0.70063826]\n",
      " [0.02127991 0.35388486 0.62483523]\n",
      " [0.07152985 0.41695375 0.5115164 ]\n",
      " [0.7706894  0.18349734 0.04581325]\n",
      " [0.07040028 0.36307885 0.56652087]\n",
      " [0.19267192 0.4727485  0.33457958]\n",
      " [0.15280003 0.38212573 0.46507424]\n",
      " [0.17395557 0.31901921 0.50702523]\n",
      " [0.12736739 0.48820204 0.38443056]\n",
      " [0.13568065 0.44198711 0.42233224]\n",
      " [0.7867313  0.16963785 0.04363084]\n",
      " [0.17115366 0.45770086 0.37114548]\n",
      " [0.74540203 0.20735953 0.04723843]\n",
      " [0.31041971 0.43132172 0.25825857]\n",
      " [0.80839308 0.15516489 0.03644203]\n",
      " [0.80848648 0.13549109 0.05602242]\n",
      " [0.21762134 0.48521286 0.29716579]\n",
      " [0.15584948 0.41625218 0.42789834]\n",
      " [0.19201639 0.40706352 0.4009201 ]\n",
      " [0.03199536 0.34175085 0.62625378]]\n"
     ]
    }
   ],
   "source": [
    "# 0, 1, 2 => 3개의 값이 될 확률 (범주별 확률)\n",
    "ovr_logit_probs = ovr_logit_model.predict_proba(df_iris_features_test)\n",
    "print(ovr_logit_probs)"
   ]
  },
  {
   "cell_type": "code",
   "execution_count": 40,
   "metadata": {},
   "outputs": [],
   "source": [
    "# 로지스틱 회귀의 경우 내부적으로 선형회귀 모델을 학습할 때, 시그모이드 함수 대신 소프트맥스 함수를 사용해 다중 분류 모델기를 생성할 수 있음\n",
    "# 소프트맥스 함수는 여러 선형회귀 모델로부터 입력을 받아 범주별 확률을 출력할 수 있음\n",
    "from sklearn.linear_model import LogisticRegression\n",
    "\n",
    "softmax_logit_model = LogisticRegression(penalty='l2', fit_intercept=True, solver='lbfgs', multi_class='multinomial')\n",
    "softmax_logit_model.fit(df_iris_features_train, df_iris_target_train.values.ravel())\n",
    "\n",
    "# 테스트 데이터셋에 예측 수행\n",
    "softmax_logit_predictions = softmax_logit_model.predict(df_iris_features_test)"
   ]
  },
  {
   "cell_type": "code",
   "execution_count": 41,
   "metadata": {},
   "outputs": [
    {
     "name": "stdout",
     "output_type": "stream",
     "text": [
      "[0 1 2 1 2 2 1 2 1 2 2 0 1 0 2 0 0 2 2 2 1 0 2 1 1 2 1 1 0 1 0 1 0 0 1 1 1\n",
      " 2]\n"
     ]
    }
   ],
   "source": [
    "# 예측을 수행한 결과는 0,1,2 중 하나\n",
    "print(softmax_logit_predictions)"
   ]
  },
  {
   "cell_type": "code",
   "execution_count": 42,
   "metadata": {},
   "outputs": [
    {
     "name": "stdout",
     "output_type": "stream",
     "text": [
      "[[0.89582633 0.09444564 0.00972803]\n",
      " [0.09889138 0.50828121 0.39282741]\n",
      " [0.01311439 0.23998685 0.74689876]\n",
      " [0.1645445  0.56290434 0.27255115]\n",
      " [0.04525701 0.42873174 0.52601125]\n",
      " [0.05219811 0.40090084 0.54690105]\n",
      " [0.1412285  0.49318467 0.36558684]\n",
      " [0.00512255 0.1226479  0.87222954]\n",
      " [0.18517246 0.6381944  0.17663314]\n",
      " [0.0301524  0.40920296 0.56064464]\n",
      " [0.00767857 0.15588852 0.83643291]\n",
      " [0.85228205 0.14095824 0.00675971]\n",
      " [0.1344201  0.56001268 0.30556722]\n",
      " [0.87716333 0.11550045 0.00733622]\n",
      " [0.03095013 0.30494959 0.66410028]\n",
      " [0.89925442 0.09260716 0.00813842]\n",
      " [0.86906457 0.12521241 0.00572302]\n",
      " [0.0286017  0.35588746 0.61551083]\n",
      " [0.00777372 0.15176958 0.84045669]\n",
      " [0.01219112 0.26741715 0.72039173]\n",
      " [0.05557848 0.49114599 0.45327553]\n",
      " [0.86733298 0.12475638 0.00791064]\n",
      " [0.05107527 0.39427714 0.55464759]\n",
      " [0.18367433 0.62661521 0.18971046]\n",
      " [0.1288656  0.49409071 0.37704369]\n",
      " [0.12588161 0.41550633 0.45861205]\n",
      " [0.12692498 0.64014023 0.23293479]\n",
      " [0.11348037 0.57595155 0.31056808]\n",
      " [0.88376853 0.10909711 0.00713437]\n",
      " [0.15767512 0.60926657 0.23305831]\n",
      " [0.85890116 0.13346798 0.00763086]\n",
      " [0.32189697 0.55802372 0.12007931]\n",
      " [0.91075124 0.08432501 0.00492375]\n",
      " [0.87466417 0.11230055 0.01303528]\n",
      " [0.21216432 0.63742445 0.15041124]\n",
      " [0.12872766 0.55202598 0.31924635]\n",
      " [0.16895463 0.54601673 0.28502864]\n",
      " [0.01604996 0.28654283 0.69740721]]\n"
     ]
    }
   ],
   "source": [
    "# 0, 1, 2 => 3개의 값이 될 확률 (범주별 확률)\n",
    "softmax_logit_probs = softmax_logit_model.predict_proba(df_iris_features_test)\n",
    "print(softmax_logit_probs)"
   ]
  },
  {
   "cell_type": "markdown",
   "metadata": {},
   "source": [
    "# decision tree models (의사 결정 나무)\n",
    "- 부모 노드가 의사 결정 경계를 나타내고 자식 노드가 의사 결정 결과를 나타내는 나무 구조\n",
    "- 의사 결정 나무는 분류 및 회귀 문제 모두에 적용 가능"
   ]
  },
  {
   "cell_type": "code",
   "execution_count": 32,
   "metadata": {},
   "outputs": [],
   "source": [
    "# 의사 결정 나무 기반 다중 분류 모델 구현\n",
    "from sklearn.tree import DecisionTreeClassifier\n",
    "\n",
    "dtree_model = DecisionTreeClassifier(max_depth=4)\n",
    "dtree_model.fit(df_iris_features_train, df_iris_target_train.values.ravel())\n",
    "\n",
    "# 테스트 데이터셋에 예측 수행\n",
    "dtree_predictions = dtree_model.predict(df_iris_features_test)"
   ]
  },
  {
   "cell_type": "code",
   "execution_count": 34,
   "metadata": {},
   "outputs": [
    {
     "name": "stdout",
     "output_type": "stream",
     "text": [
      "[0 1 2 1 2 2 1 2 1 2 2 0 1 0 2 0 0 2 2 2 1 0 2 1 1 1 1 1 0 1 0 1 0 0 1 1 1\n",
      " 2]\n"
     ]
    }
   ],
   "source": [
    "# 예측을 수행한 결과는 0,1,2 중 하나\n",
    "print (dtree_predictions)"
   ]
  },
  {
   "cell_type": "code",
   "execution_count": 36,
   "metadata": {},
   "outputs": [
    {
     "name": "stdout",
     "output_type": "stream",
     "text": [
      "[[1.         0.         0.        ]\n",
      " [0.         0.97058824 0.02941176]\n",
      " [0.         0.         1.        ]\n",
      " [0.         0.97058824 0.02941176]\n",
      " [0.         0.         1.        ]\n",
      " [0.         0.         1.        ]\n",
      " [0.         0.97058824 0.02941176]\n",
      " [0.         0.         1.        ]\n",
      " [0.         0.97058824 0.02941176]\n",
      " [0.         0.         1.        ]\n",
      " [0.         0.         1.        ]\n",
      " [1.         0.         0.        ]\n",
      " [0.         0.97058824 0.02941176]\n",
      " [1.         0.         0.        ]\n",
      " [0.         0.         1.        ]\n",
      " [1.         0.         0.        ]\n",
      " [1.         0.         0.        ]\n",
      " [0.         0.         1.        ]\n",
      " [0.         0.         1.        ]\n",
      " [0.         0.         1.        ]\n",
      " [0.         0.97058824 0.02941176]\n",
      " [1.         0.         0.        ]\n",
      " [0.         0.         1.        ]\n",
      " [0.         0.97058824 0.02941176]\n",
      " [0.         0.97058824 0.02941176]\n",
      " [0.         0.97058824 0.02941176]\n",
      " [0.         0.97058824 0.02941176]\n",
      " [0.         0.97058824 0.02941176]\n",
      " [1.         0.         0.        ]\n",
      " [0.         0.97058824 0.02941176]\n",
      " [1.         0.         0.        ]\n",
      " [0.         0.97058824 0.02941176]\n",
      " [1.         0.         0.        ]\n",
      " [1.         0.         0.        ]\n",
      " [0.         0.97058824 0.02941176]\n",
      " [0.         0.97058824 0.02941176]\n",
      " [0.         0.97058824 0.02941176]\n",
      " [0.         0.         1.        ]]\n"
     ]
    }
   ],
   "source": [
    "#  0, 1, 2 =>3개의 값이 될 확률 \n",
    "dtree_probs = dtree_model.predict_proba(df_iris_features_test)\n",
    "print(dtree_probs)"
   ]
  },
  {
   "cell_type": "markdown",
   "metadata": {},
   "source": [
    "# 모델 평가"
   ]
  },
  {
   "cell_type": "code",
   "execution_count": 49,
   "metadata": {},
   "outputs": [],
   "source": [
    "# softmax (a.k.a 다중회귀) 분류기\n",
    "from sklearn.linear_model import LogisticRegression\n",
    "softmax_logit_model = LogisticRegression(penalty='l2', fit_intercept=True, solver='lbfgs', multi_class='multinomial')\n",
    "softmax_logit_model.fit(df_iris_features_train, df_iris_target_train.values.ravel())\n",
    "\n",
    "# 의사 결정 나무 기반 다중 분류기\n",
    "from sklearn.tree import DecisionTreeClassifier\n",
    "mc_dtree_model = DecisionTreeClassifier(max_depth=4)\n",
    "mc_dtree_model.fit(df_iris_features_train, df_iris_target_train.values.ravel())\n",
    "\n",
    "# 테스테 셋에 예측 수행\n",
    "softmax_logit_predictions = softmax_logit_model.predict(df_iris_features_test)\n",
    "mc_predictions = mc_dtree_model.predict(df_iris_features_test)\n",
    "\n",
    "# 혼동 행렬 생성\n",
    "from sklearn.metrics import confusion_matrix\n",
    "\n",
    "cm_softmax = confusion_matrix(df_iris_target_test.values.ravel(), softmax_logit_predictions)\n",
    "cm_mc_dtree = confusion_matrix(df_iris_target_test.values.ravel(), mc_predictions)"
   ]
  },
  {
   "cell_type": "code",
   "execution_count": 50,
   "metadata": {},
   "outputs": [
    {
     "name": "stdout",
     "output_type": "stream",
     "text": [
      "[[10  0  0]\n",
      " [ 0 14  1]\n",
      " [ 0  1 12]]\n"
     ]
    }
   ],
   "source": [
    "print(cm_softmax)"
   ]
  },
  {
   "cell_type": "code",
   "execution_count": 51,
   "metadata": {},
   "outputs": [
    {
     "name": "stdout",
     "output_type": "stream",
     "text": [
      "[[10  0  0]\n",
      " [ 0 15  0]\n",
      " [ 0  1 12]]\n"
     ]
    }
   ],
   "source": [
    "print(cm_mc_dtree)"
   ]
  },
  {
   "cell_type": "code",
   "execution_count": 52,
   "metadata": {},
   "outputs": [],
   "source": [
    "# 혼동 행렬을 열 지도로 표현\n",
    "%matplotlib inline\n",
    "import matplotlib.pyplot as plt\n",
    "\n",
    "# Matplotlib 함수로 혼동 행렬을 열 지도로 나타내기\n",
    "def plot_confusion_matrix(cmatrix, class_labels, axes, title, cmap):\n",
    "\n",
    "    heatmap_image = axes.imshow(cmatrix, interpolation='nearest', cmap=cmap)\n",
    "    axes.figure.colorbar(heatmap_image, ax=axes)\n",
    "    \n",
    "    num_rows = cmatrix.shape[0]\n",
    "    num_cols = cmatrix.shape[1]\n",
    "    \n",
    "    axes.set_title(title)\n",
    "    axes.set_xlabel('Predicted')\n",
    "    axes.set_ylabel('True')\n",
    "    \n",
    "    axes.set_xticks(np.arange(num_cols))\n",
    "    axes.set_yticks(np.arange(num_rows))\n",
    "    axes.set_xticklabels(class_labels)\n",
    "    axes.set_yticklabels(class_labels)\n",
    "    \n",
    "    # Loop 돌면서 주석 장성\n",
    "    #fmt = '.2f' if normalize else 'd'\n",
    "    thresh = cmatrix.max() / 2.\n",
    "    for y in range(num_rows):\n",
    "        for x in range(num_cols):\n",
    "            axes.text(x, y, format(cmatrix[y, x], '.0f'),\n",
    "                    ha=\"center\", va=\"center\",\n",
    "                    color=\"white\" if cmatrix[y, x] > thresh else \"black\")\n"
   ]
  },
  {
   "cell_type": "code",
   "execution_count": 53,
   "metadata": {},
   "outputs": [
    {
     "data": {
      "image/png": "[encoded data removed]",
      "text/plain": [
       "<Figure size 1296x432 with 4 Axes>"
      ]
     },
     "metadata": {
      "needs_background": "light"
     },
     "output_type": "display_data"
    }
   ],
   "source": [
    "fig, axes = plt.subplots(1, 2, figsize=(18,6))\n",
    "\n",
    "plot_confusion_matrix(cm_softmax, \n",
    "                      iris_dataset.target_names, axes[0], \n",
    "                      \"Softmax Regression\", \n",
    "                      plt.cm.Greens)\n",
    "\n",
    "plot_confusion_matrix(cm_mc_dtree, \n",
    "                      iris_dataset.target_names, axes[1], \n",
    "                      \"Decision Tree Regression\", \n",
    "                      plt.cm.Greens)"
   ]
  },
  {
   "cell_type": "markdown",
   "metadata": {},
   "source": [
    "# Grid search를 사용해 가장 성능이 좋은 파라미터 선택"
   ]
  },
  {
   "cell_type": "code",
   "execution_count": 74,
   "metadata": {},
   "outputs": [
    {
     "data": {
      "text/plain": [
       "GridSearchCV(cv=5, estimator=DecisionTreeClassifier(), n_jobs=-1,\n",
       "             param_grid={'criterion': ['gini', 'entropy'],\n",
       "                         'max_depth': [2, 3, 4, 5, 6, 7, 8, 9, 10, 11, 12],\n",
       "                         'min_samples_split': [2, 3, 4, 5, 6, 7, 8, 9, 10, 11,\n",
       "                                               12],\n",
       "                         'splitter': ['best', 'random']},\n",
       "             scoring='accuracy')"
      ]
     },
     "execution_count": 74,
     "metadata": {},
     "output_type": "execute_result"
    }
   ],
   "source": [
    "# GridSearchCV를 통해 의사결정나무 기반 모델이 최고의 정확도를 보이는 파라미터 차지\n",
    "from sklearn.model_selection import GridSearchCV\n",
    "from sklearn.tree import DecisionTreeClassifier\n",
    "\n",
    "estimator_Df =DecisionTreeClassifier()\n",
    "\n",
    "grid_params = {  \n",
    "    'criterion': ['gini', 'entropy'],\n",
    "    'splitter': ['best', 'random'],\n",
    "    'max_depth': [2, 3, 4, 5, 6, 7, 8, 9, 10, 11, 12],\n",
    "    'min_samples_split': [2, 3, 4, 5, 6, 7, 8, 9, 10, 11, 12],\n",
    "    }\n",
    "\n",
    "grid_search = GridSearchCV(estimator=estimator_Df,  \n",
    "                           param_grid=grid_params, scoring='accuracy',\n",
    "                           cv=5, n_jobs=-1)\n",
    "\n",
    "grid_search.fit(df_iris_features_train, df_iris_target_train)"
   ]
  },
  {
   "cell_type": "code",
   "execution_count": 75,
   "metadata": {},
   "outputs": [
    {
     "name": "stdout",
     "output_type": "stream",
     "text": [
      "{'criterion': 'gini', 'max_depth': 4, 'min_samples_split': 2, 'splitter': 'random'}\n"
     ]
    }
   ],
   "source": [
    "best_parameters = grid_search.best_params_  \n",
    "print(best_parameters)  "
   ]
  },
  {
   "cell_type": "code",
   "execution_count": 76,
   "metadata": {},
   "outputs": [
    {
     "name": "stdout",
     "output_type": "stream",
     "text": [
      "0.9648221343873518\n"
     ]
    }
   ],
   "source": [
    "best_accuracy = grid_search.best_score_  \n",
    "print(best_accuracy)  "
   ]
  },
  {
   "cell_type": "code",
   "execution_count": 81,
   "metadata": {},
   "outputs": [],
   "source": [
    "# 가장 성능이 좋은 모델\n",
    "best_model = grid_search.best_estimator_"
   ]
  },
  {
   "cell_type": "code",
   "execution_count": 82,
   "metadata": {},
   "outputs": [],
   "source": [
    "y_test_pred =best_model.predict(df_iris_features_test)"
   ]
  },
  {
   "cell_type": "code",
   "execution_count": 83,
   "metadata": {},
   "outputs": [],
   "source": [
    "# 모델 평가\n",
    "from sklearn.metrics import classification_report"
   ]
  },
  {
   "cell_type": "code",
   "execution_count": 85,
   "metadata": {},
   "outputs": [
    {
     "name": "stdout",
     "output_type": "stream",
     "text": [
      "              precision    recall  f1-score   support\n",
      "\n",
      "           0       1.00      1.00      1.00        10\n",
      "           1       0.68      1.00      0.81        15\n",
      "           2       1.00      0.46      0.63        13\n",
      "\n",
      "    accuracy                           0.82        38\n",
      "   macro avg       0.89      0.82      0.81        38\n",
      "weighted avg       0.87      0.82      0.80        38\n",
      "\n"
     ]
    }
   ],
   "source": [
    "print(classification_report(df_iris_target_test,y_test_pred))"
   ]
  },
  {
   "cell_type": "code",
   "execution_count": null,
   "metadata": {},
   "outputs": [],
   "source": [
    "print('Done')"
   ]
  }
 ],
 "metadata": {
  "hide_input": false,
  "kernelspec": {
   "display_name": "Python 3",
   "language": "python",
   "name": "python3"
  },
  "language_info": {
   "codemirror_mode": {
    "name": "ipython",
    "version": 3
   },
   "file_extension": ".py",
   "mimetype": "text/x-python",
   "name": "python",
   "nbconvert_exporter": "python",
   "pygments_lexer": "ipython3",
   "version": "3.7.6"
  },
  "toc": {
   "base_numbering": 1,
   "nav_menu": {},
   "number_sections": true,
   "sideBar": true,
   "skip_h1_title": false,
   "title_cell": "Table of Contents",
   "title_sidebar": "Contents",
   "toc_cell": false,
   "toc_position": {},
   "toc_section_display": true,
   "toc_window_display": false
  },
  "varInspector": {
   "cols": {
    "lenName": 16,
    "lenType": 16,
    "lenVar": 40
   },
   "kernels_config": {
    "python": {
     "delete_cmd_postfix": "",
     "delete_cmd_prefix": "del ",
     "library": "var_list.py",
     "varRefreshCmd": "print(var_dic_list())"
    },
    "r": {
     "delete_cmd_postfix": ") ",
     "delete_cmd_prefix": "rm(",
     "library": "var_list.r",
     "varRefreshCmd": "cat(var_dic_list()) "
    }
   },
   "types_to_exclude": [
    "module",
    "function",
    "builtin_function_or_method",
    "instance",
    "_Feature"
   ],
   "window_display": false
  }
 },
 "nbformat": 4,
 "nbformat_minor": 2
}
