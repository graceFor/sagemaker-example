{
 "cells": [
  {
   "cell_type": "markdown",
   "metadata": {},
   "source": [
    "# load datasets"
   ]
  },
  {
   "cell_type": "code",
   "execution_count": 34,
   "metadata": {},
   "outputs": [],
   "source": [
    "%matplotlib inline\n",
    "import matplotlib.pyplot as plt\n",
    "\n",
    "import numpy as np\n",
    "import pandas as pd\n",
    "import os"
   ]
  },
  {
   "cell_type": "code",
   "execution_count": 35,
   "metadata": {},
   "outputs": [],
   "source": [
    "# iris dataset 불러오기\n",
    "from sklearn.datasets import load_iris\n",
    "iris_dataset = load_iris()\n",
    "df_iris_features = pd.DataFrame(data = iris_dataset.data, columns=iris_dataset.feature_names) # 설명변수 (x)\n",
    "df_iris_target = pd.DataFrame(data = iris_dataset.target, columns=['class']) # 목표변수 (y)"
   ]
  },
  {
   "cell_type": "code",
   "execution_count": 36,
   "metadata": {},
   "outputs": [
    {
     "data": {
      "text/html": [
       "<div>\n",
       "<style scoped>\n",
       "    .dataframe tbody tr th:only-of-type {\n",
       "        vertical-align: middle;\n",
       "    }\n",
       "\n",
       "    .dataframe tbody tr th {\n",
       "        vertical-align: top;\n",
       "    }\n",
       "\n",
       "    .dataframe thead th {\n",
       "        text-align: right;\n",
       "    }\n",
       "</style>\n",
       "<table border=\"1\" class=\"dataframe\">\n",
       "  <thead>\n",
       "    <tr style=\"text-align: right;\">\n",
       "      <th></th>\n",
       "      <th>sepal length (cm)</th>\n",
       "      <th>sepal width (cm)</th>\n",
       "      <th>petal length (cm)</th>\n",
       "      <th>petal width (cm)</th>\n",
       "    </tr>\n",
       "  </thead>\n",
       "  <tbody>\n",
       "    <tr>\n",
       "      <th>0</th>\n",
       "      <td>5.1</td>\n",
       "      <td>3.5</td>\n",
       "      <td>1.4</td>\n",
       "      <td>0.2</td>\n",
       "    </tr>\n",
       "    <tr>\n",
       "      <th>1</th>\n",
       "      <td>4.9</td>\n",
       "      <td>3.0</td>\n",
       "      <td>1.4</td>\n",
       "      <td>0.2</td>\n",
       "    </tr>\n",
       "    <tr>\n",
       "      <th>2</th>\n",
       "      <td>4.7</td>\n",
       "      <td>3.2</td>\n",
       "      <td>1.3</td>\n",
       "      <td>0.2</td>\n",
       "    </tr>\n",
       "    <tr>\n",
       "      <th>3</th>\n",
       "      <td>4.6</td>\n",
       "      <td>3.1</td>\n",
       "      <td>1.5</td>\n",
       "      <td>0.2</td>\n",
       "    </tr>\n",
       "    <tr>\n",
       "      <th>4</th>\n",
       "      <td>5.0</td>\n",
       "      <td>3.6</td>\n",
       "      <td>1.4</td>\n",
       "      <td>0.2</td>\n",
       "    </tr>\n",
       "  </tbody>\n",
       "</table>\n",
       "</div>"
      ],
      "text/plain": [
       "   sepal length (cm)  sepal width (cm)  petal length (cm)  petal width (cm)\n",
       "0                5.1               3.5                1.4               0.2\n",
       "1                4.9               3.0                1.4               0.2\n",
       "2                4.7               3.2                1.3               0.2\n",
       "3                4.6               3.1                1.5               0.2\n",
       "4                5.0               3.6                1.4               0.2"
      ]
     },
     "execution_count": 36,
     "metadata": {},
     "output_type": "execute_result"
    }
   ],
   "source": [
    "df_iris_features.head()"
   ]
  },
  {
   "cell_type": "code",
   "execution_count": 37,
   "metadata": {},
   "outputs": [
    {
     "data": {
      "text/html": [
       "<div>\n",
       "<style scoped>\n",
       "    .dataframe tbody tr th:only-of-type {\n",
       "        vertical-align: middle;\n",
       "    }\n",
       "\n",
       "    .dataframe tbody tr th {\n",
       "        vertical-align: top;\n",
       "    }\n",
       "\n",
       "    .dataframe thead th {\n",
       "        text-align: right;\n",
       "    }\n",
       "</style>\n",
       "<table border=\"1\" class=\"dataframe\">\n",
       "  <thead>\n",
       "    <tr style=\"text-align: right;\">\n",
       "      <th></th>\n",
       "      <th>class</th>\n",
       "    </tr>\n",
       "  </thead>\n",
       "  <tbody>\n",
       "    <tr>\n",
       "      <th>0</th>\n",
       "      <td>0</td>\n",
       "    </tr>\n",
       "    <tr>\n",
       "      <th>1</th>\n",
       "      <td>0</td>\n",
       "    </tr>\n",
       "    <tr>\n",
       "      <th>2</th>\n",
       "      <td>0</td>\n",
       "    </tr>\n",
       "    <tr>\n",
       "      <th>3</th>\n",
       "      <td>0</td>\n",
       "    </tr>\n",
       "    <tr>\n",
       "      <th>4</th>\n",
       "      <td>0</td>\n",
       "    </tr>\n",
       "  </tbody>\n",
       "</table>\n",
       "</div>"
      ],
      "text/plain": [
       "   class\n",
       "0      0\n",
       "1      0\n",
       "2      0\n",
       "3      0\n",
       "4      0"
      ]
     },
     "execution_count": 37,
     "metadata": {},
     "output_type": "execute_result"
    }
   ],
   "source": [
    "df_iris_target.head()"
   ]
  },
  {
   "cell_type": "code",
   "execution_count": 38,
   "metadata": {},
   "outputs": [
    {
     "data": {
      "text/plain": [
       "((150, 4), (150, 1))"
      ]
     },
     "execution_count": 38,
     "metadata": {},
     "output_type": "execute_result"
    }
   ],
   "source": [
    "df_iris_features.shape, df_iris_target.shape"
   ]
  },
  {
   "cell_type": "markdown",
   "metadata": {},
   "source": [
    "# creating a training and validation set"
   ]
  },
  {
   "cell_type": "code",
   "execution_count": 39,
   "metadata": {},
   "outputs": [],
   "source": [
    "# Scikit-Learn의 train_test_split 함수를 사용해서 train, test 데이터를 분리\n",
    "from sklearn.model_selection import train_test_split\n",
    "\n",
    "# iris dataset 나누기\n",
    "iris_split = train_test_split(df_iris_features, df_iris_target, test_size=0.25, random_state=17)\n",
    "\n",
    "df_iris_features_train = iris_split[0] # train 설명변수\n",
    "df_iris_features_test = iris_split[1] # test 설명변수\n",
    "df_iris_target_train = iris_split[2] # train 목표변수\n",
    "df_iris_target_test = iris_split[3] # test 목표변수"
   ]
  },
  {
   "cell_type": "code",
   "execution_count": 40,
   "metadata": {},
   "outputs": [
    {
     "data": {
      "text/plain": [
       "((112, 4), (112, 1))"
      ]
     },
     "execution_count": 40,
     "metadata": {},
     "output_type": "execute_result"
    }
   ],
   "source": [
    "df_iris_features_train.shape, df_iris_target_train.shape"
   ]
  },
  {
   "cell_type": "code",
   "execution_count": 41,
   "metadata": {},
   "outputs": [
    {
     "data": {
      "text/plain": [
       "((38, 4), (38, 1))"
      ]
     },
     "execution_count": 41,
     "metadata": {},
     "output_type": "execute_result"
    }
   ],
   "source": [
    "df_iris_features_test.shape, df_iris_target_test.shape"
   ]
  },
  {
   "cell_type": "markdown",
   "metadata": {},
   "source": [
    "- train_test_split 함수는 기본적으로 데이터를 섞은 후 훈련 데이터가 끝나고 테스트 데이터가 시작되는 점을 경계로 데이터셋을 나눔\n",
    "- 만약 원본 데이터가 여러 개의 범주를 갖고 있고 범주들의 데이터 양이 불균형하다면, 나눈 데이터도 비슷한 비율을 갖도록 해야 함\n",
    "- train_test_split 함수에서 stratify 파라미터는 데이터가 여러 범주를 갖고 있는 경우 나누기 전과 후의 비율이 동일하도록 유지해줌"
   ]
  },
  {
   "cell_type": "code",
   "execution_count": 42,
   "metadata": {},
   "outputs": [],
   "source": [
    "# iris dataset, with stratified sampling\n",
    "iris_split_strat = train_test_split(df_iris_features, df_iris_target, \n",
    "                                    test_size=0.25, random_state=17, stratify=df_iris_target)\n",
    "df_iris_features_train2 = iris_split_strat[0]\n",
    "df_iris_features_test2 = iris_split_strat[1]\n",
    "df_iris_target_train2 = iris_split_strat[2]\n",
    "df_iris_target_test2 = iris_split_strat[3]"
   ]
  },
  {
   "cell_type": "code",
   "execution_count": 43,
   "metadata": {},
   "outputs": [
    {
     "data": {
      "text/plain": [
       "((112, 4), (112, 1))"
      ]
     },
     "execution_count": 43,
     "metadata": {},
     "output_type": "execute_result"
    }
   ],
   "source": [
    "df_iris_features_train2.shape, df_iris_target_train2.shape"
   ]
  },
  {
   "cell_type": "code",
   "execution_count": 44,
   "metadata": {},
   "outputs": [
    {
     "data": {
      "text/plain": [
       "((38, 4), (38, 1))"
      ]
     },
     "execution_count": 44,
     "metadata": {},
     "output_type": "execute_result"
    }
   ],
   "source": [
    "df_iris_features_test2.shape, df_iris_target_test2.shape"
   ]
  },
  {
   "cell_type": "code",
   "execution_count": 45,
   "metadata": {},
   "outputs": [
    {
     "data": {
      "text/html": [
       "<div>\n",
       "<style scoped>\n",
       "    .dataframe tbody tr th:only-of-type {\n",
       "        vertical-align: middle;\n",
       "    }\n",
       "\n",
       "    .dataframe tbody tr th {\n",
       "        vertical-align: top;\n",
       "    }\n",
       "\n",
       "    .dataframe thead th {\n",
       "        text-align: right;\n",
       "    }\n",
       "</style>\n",
       "<table border=\"1\" class=\"dataframe\">\n",
       "  <thead>\n",
       "    <tr style=\"text-align: right;\">\n",
       "      <th></th>\n",
       "      <th>sepal length (cm)</th>\n",
       "      <th>sepal width (cm)</th>\n",
       "      <th>petal length (cm)</th>\n",
       "      <th>petal width (cm)</th>\n",
       "    </tr>\n",
       "  </thead>\n",
       "  <tbody>\n",
       "    <tr>\n",
       "      <th>0</th>\n",
       "      <td>5.1</td>\n",
       "      <td>3.5</td>\n",
       "      <td>1.4</td>\n",
       "      <td>0.2</td>\n",
       "    </tr>\n",
       "    <tr>\n",
       "      <th>1</th>\n",
       "      <td>4.9</td>\n",
       "      <td>3.0</td>\n",
       "      <td>1.4</td>\n",
       "      <td>0.2</td>\n",
       "    </tr>\n",
       "    <tr>\n",
       "      <th>2</th>\n",
       "      <td>4.7</td>\n",
       "      <td>3.2</td>\n",
       "      <td>1.3</td>\n",
       "      <td>0.2</td>\n",
       "    </tr>\n",
       "    <tr>\n",
       "      <th>3</th>\n",
       "      <td>4.6</td>\n",
       "      <td>3.1</td>\n",
       "      <td>1.5</td>\n",
       "      <td>0.2</td>\n",
       "    </tr>\n",
       "    <tr>\n",
       "      <th>4</th>\n",
       "      <td>5.0</td>\n",
       "      <td>3.6</td>\n",
       "      <td>1.4</td>\n",
       "      <td>0.2</td>\n",
       "    </tr>\n",
       "  </tbody>\n",
       "</table>\n",
       "</div>"
      ],
      "text/plain": [
       "   sepal length (cm)  sepal width (cm)  petal length (cm)  petal width (cm)\n",
       "0                5.1               3.5                1.4               0.2\n",
       "1                4.9               3.0                1.4               0.2\n",
       "2                4.7               3.2                1.3               0.2\n",
       "3                4.6               3.1                1.5               0.2\n",
       "4                5.0               3.6                1.4               0.2"
      ]
     },
     "execution_count": 45,
     "metadata": {},
     "output_type": "execute_result"
    }
   ],
   "source": [
    "df_iris_features.head()"
   ]
  },
  {
   "cell_type": "code",
   "execution_count": 46,
   "metadata": {},
   "outputs": [
    {
     "data": {
      "text/html": [
       "<div>\n",
       "<style scoped>\n",
       "    .dataframe tbody tr th:only-of-type {\n",
       "        vertical-align: middle;\n",
       "    }\n",
       "\n",
       "    .dataframe tbody tr th {\n",
       "        vertical-align: top;\n",
       "    }\n",
       "\n",
       "    .dataframe thead th {\n",
       "        text-align: right;\n",
       "    }\n",
       "</style>\n",
       "<table border=\"1\" class=\"dataframe\">\n",
       "  <thead>\n",
       "    <tr style=\"text-align: right;\">\n",
       "      <th></th>\n",
       "      <th>sepal length (cm)</th>\n",
       "      <th>sepal width (cm)</th>\n",
       "      <th>petal length (cm)</th>\n",
       "      <th>petal width (cm)</th>\n",
       "    </tr>\n",
       "  </thead>\n",
       "  <tbody>\n",
       "    <tr>\n",
       "      <th>71</th>\n",
       "      <td>6.1</td>\n",
       "      <td>2.8</td>\n",
       "      <td>4.0</td>\n",
       "      <td>1.3</td>\n",
       "    </tr>\n",
       "    <tr>\n",
       "      <th>34</th>\n",
       "      <td>4.9</td>\n",
       "      <td>3.1</td>\n",
       "      <td>1.5</td>\n",
       "      <td>0.2</td>\n",
       "    </tr>\n",
       "    <tr>\n",
       "      <th>95</th>\n",
       "      <td>5.7</td>\n",
       "      <td>3.0</td>\n",
       "      <td>4.2</td>\n",
       "      <td>1.2</td>\n",
       "    </tr>\n",
       "    <tr>\n",
       "      <th>75</th>\n",
       "      <td>6.6</td>\n",
       "      <td>3.0</td>\n",
       "      <td>4.4</td>\n",
       "      <td>1.4</td>\n",
       "    </tr>\n",
       "    <tr>\n",
       "      <th>48</th>\n",
       "      <td>5.3</td>\n",
       "      <td>3.7</td>\n",
       "      <td>1.5</td>\n",
       "      <td>0.2</td>\n",
       "    </tr>\n",
       "  </tbody>\n",
       "</table>\n",
       "</div>"
      ],
      "text/plain": [
       "    sepal length (cm)  sepal width (cm)  petal length (cm)  petal width (cm)\n",
       "71                6.1               2.8                4.0               1.3\n",
       "34                4.9               3.1                1.5               0.2\n",
       "95                5.7               3.0                4.2               1.2\n",
       "75                6.6               3.0                4.4               1.4\n",
       "48                5.3               3.7                1.5               0.2"
      ]
     },
     "execution_count": 46,
     "metadata": {},
     "output_type": "execute_result"
    }
   ],
   "source": [
    "df_iris_features_train.head()"
   ]
  },
  {
   "cell_type": "code",
   "execution_count": 47,
   "metadata": {},
   "outputs": [
    {
     "data": {
      "text/plain": [
       "<AxesSubplot:title={'center':'df_iris_target_train2'}>"
      ]
     },
     "execution_count": 47,
     "metadata": {},
     "output_type": "execute_result"
    },
    {
     "data": {
      "image/png": "[encoded data removed]",
      "text/plain": [
       "<Figure size 1080x360 with 3 Axes>"
      ]
     },
     "metadata": {
      "needs_background": "light"
     },
     "output_type": "display_data"
    }
   ],
   "source": [
    "# 판다스 함수를 이용해 원본 데이터셋, 분할 미적용 훈련 데이터셋의 분포를 시각화, 계층화 분할 적용 훈련 데이터셋(stratify)\n",
    "# stratify를 적용한 데이터셋의 분포가 원본 데이터셋과 비슷한 분포를 가짐\n",
    "# class 속성을 대표로\n",
    "\n",
    "fig, axes = plt.subplots(1, 3, figsize=(15,5))\n",
    "\n",
    "# 원본 데이터셋\n",
    "axes[0].set_title('df_iris_target')\n",
    "df_iris_target['class'].value_counts(dropna=False).plot.bar(grid=True, ax=axes[0])\n",
    "\n",
    "# 분할 미적용 훈련 데이터셋의 분포를 시각화\n",
    "axes[1].set_title('df_iris_target_train')\n",
    "df_iris_target_train['class'].value_counts(dropna=False).plot.bar(grid=True, ax=axes[1])\n",
    "\n",
    "# 계층화 분할 적용 훈련 데이터셋(stratify)\n",
    "axes[2].set_title('df_iris_target_train2')\n",
    "df_iris_target_train2['class'].value_counts(dropna=False).plot.bar(grid=True, ax=axes[2])"
   ]
  },
  {
   "cell_type": "markdown",
   "metadata": {},
   "source": [
    "# k-fold cross validation\n",
    "- 데이터셋을 훈련 데이터와 테스트 데이터로 나눌 때 발생할 수 있는 가장 큰 단점은 훈련 데이터에서 나타나는 특징이 테스트 데이터가 나타나지 않을 수 있다는 점\n",
    "- 훈련 데이터에서만 잘 작동하는 모델을 생성하지 않기 위해 k-fold cross validation이라는 방법을 사용\n",
    "- 이 방법은 이후 모델링을 할 때 적용해보도록 하자\n"
   ]
  },
  {
   "attachments": {},
   "cell_type": "markdown",
   "metadata": {},
   "source": [
    "## 작동 원리\n",
    "\n",
    "1. k 값 선택\n",
    "2. 원본 데이터 섞기\n",
    "3. 원본 데이터를 동일한 크기를 갖는 k개의 데이터셋으로 나누기\n",
    "4. 각 k에 관해서\n",
    "       a. k번째 데이터셋을 테스트 데이터로, 나머지 데이터셋을 훈련 데이터로 사용해 모델 학습\n",
    "       b. k번째 데이터셋에 테스트한 성능 기록\n",
    "5. 개별 모델들의 평균 성능을 계산해 전체 성능 계산"
   ]
  },
  {
   "cell_type": "markdown",
   "metadata": {},
   "source": [
    "![pa](./k.png)"
   ]
  },
  {
   "cell_type": "code",
   "execution_count": 50,
   "metadata": {
    "scrolled": true
   },
   "outputs": [
    {
     "name": "stdout",
     "output_type": "stream",
     "text": [
      "Fold number: 1\n",
      "Training indices: [  0   1   2   4   5   6   7   8  10  11  12  13  14  15  16  17  18  19\n",
      "  20  21  23  24  25  27  28  30  31  33  35  36  37  38  39  40  41  42\n",
      "  43  44  45  46  47  48  49  50  51  52  53  54  55  56  57  58  59  60\n",
      "  61  62  63  64  65  66  67  68  69  70  71  72  73  74  75  76  77  78\n",
      "  79  80  81  82  84  85  86  87  89  92  93  94  95  96  97  98  99 100\n",
      " 101 102 103 104 105 106 108 109 110 111 112 113 114 115 116 118 119 120\n",
      " 122 123 124 125 126 127 128 129 130 131 132 133 135 136 137 138 139 140\n",
      " 141 142 143 144 145 146 147 148 149]\n",
      "Testing indices:: [  3   9  22  26  29  32  34  83  88  90  91 107 117 121 134]\n",
      "Fold number: 2\n",
      "Training indices: [  0   1   2   3   4   5   6   7   8   9  10  11  12  13  14  15  16  17\n",
      "  18  19  20  21  22  24  25  26  27  28  29  30  31  32  34  35  36  37\n",
      "  38  39  40  41  42  43  44  45  46  47  48  49  50  52  54  55  56  57\n",
      "  58  59  60  61  62  63  64  66  67  68  69  70  71  72  73  74  75  76\n",
      "  77  78  80  81  82  83  84  85  86  87  88  90  91  92  93  94  95  96\n",
      "  97  98  99 101 102 103 104 105 107 108 109 110 111 112 113 116 117 118\n",
      " 119 120 121 122 123 125 126 128 129 130 131 132 133 134 135 136 137 138\n",
      " 139 140 141 142 144 145 146 147 149]\n",
      "Testing indices:: [ 23  33  51  53  65  79  89 100 106 114 115 124 127 143 148]\n",
      "Fold number: 3\n",
      "Training indices: [  0   1   2   3   4   5   6   7   9  10  11  12  13  14  15  16  17  18\n",
      "  19  20  21  22  23  24  25  26  27  29  30  31  32  33  34  35  36  37\n",
      "  39  40  42  43  44  45  47  48  49  50  51  52  53  54  56  57  58  59\n",
      "  61  62  63  64  65  66  68  69  70  71  72  74  76  77  78  79  80  81\n",
      "  82  83  84  85  86  87  88  89  90  91  92  93  94  95  96  97  98  99\n",
      " 100 101 102 103 104 105 106 107 108 111 112 114 115 116 117 118 120 121\n",
      " 122 123 124 125 126 127 128 129 130 131 132 133 134 135 136 137 138 139\n",
      " 141 142 143 144 145 146 147 148 149]\n",
      "Testing indices:: [  8  28  38  41  46  55  60  67  73  75 109 110 113 119 140]\n",
      "Fold number: 4\n",
      "Training indices: [  1   2   3   4   5   6   7   8   9  10  11  12  15  16  17  18  19  20\n",
      "  21  22  23  24  25  26  27  28  29  30  31  32  33  34  35  36  37  38\n",
      "  39  40  41  42  43  45  46  47  48  49  50  51  52  53  55  56  58  59\n",
      "  60  61  62  63  64  65  66  67  68  69  70  71  72  73  74  75  76  78\n",
      "  79  80  81  82  83  84  85  86  87  88  89  90  91  92  93  94  95  97\n",
      "  98 100 101 102 103 104 105 106 107 108 109 110 112 113 114 115 116 117\n",
      " 118 119 120 121 123 124 125 127 128 129 130 131 132 133 134 135 136 137\n",
      " 138 140 141 143 144 145 146 147 148]\n",
      "Testing indices:: [  0  13  14  44  54  57  77  96  99 111 122 126 139 142 149]\n",
      "Fold number: 5\n",
      "Training indices: [  0   1   2   3   4   7   8   9  10  11  12  13  14  15  16  17  18  19\n",
      "  20  22  23  24  25  26  27  28  29  30  31  32  33  34  35  36  37  38\n",
      "  39  40  41  44  46  48  49  50  51  52  53  54  55  57  58  59  60  61\n",
      "  62  63  64  65  66  67  68  69  70  71  73  75  76  77  78  79  80  82\n",
      "  83  84  85  86  87  88  89  90  91  92  93  94  95  96  97  98  99 100\n",
      " 101 102 103 105 106 107 108 109 110 111 112 113 114 115 116 117 118 119\n",
      " 120 121 122 123 124 125 126 127 129 130 132 133 134 135 136 137 138 139\n",
      " 140 141 142 143 144 146 147 148 149]\n",
      "Testing indices:: [  5   6  21  42  43  45  47  56  72  74  81 104 128 131 145]\n",
      "Fold number: 6\n",
      "Training indices: [  0   1   3   4   5   6   7   8   9  10  11  12  13  14  15  16  17  18\n",
      "  19  20  21  22  23  24  25  26  28  29  30  31  32  33  34  35  36  37\n",
      "  38  39  40  41  42  43  44  45  46  47  48  49  50  51  52  53  54  55\n",
      "  56  57  58  59  60  61  63  64  65  67  70  72  73  74  75  76  77  78\n",
      "  79  80  81  82  83  84  86  87  88  89  90  91  92  94  95  96  98  99\n",
      " 100 101 102 103 104 106 107 108 109 110 111 113 114 115 116 117 118 119\n",
      " 121 122 123 124 125 126 127 128 129 130 131 133 134 135 136 137 138 139\n",
      " 140 141 142 143 144 145 147 148 149]\n",
      "Testing indices:: [  2  27  62  66  68  69  71  85  93  97 105 112 120 132 146]\n",
      "Fold number: 7\n",
      "Training indices: [  0   1   2   3   4   5   6   7   8   9  11  12  13  14  15  16  17  20\n",
      "  21  22  23  24  25  26  27  28  29  30  31  32  33  34  35  36  37  38\n",
      "  41  42  43  44  45  46  47  48  49  50  51  52  53  54  55  56  57  58\n",
      "  59  60  61  62  63  64  65  66  67  68  69  70  71  72  73  74  75  77\n",
      "  78  79  80  81  83  85  86  87  88  89  90  91  93  94  95  96  97  98\n",
      "  99 100 101 102 104 105 106 107 108 109 110 111 112 113 114 115 117 118\n",
      " 119 120 121 122 123 124 125 126 127 128 129 131 132 133 134 135 137 138\n",
      " 139 140 142 143 145 146 147 148 149]\n",
      "Testing indices:: [ 10  18  19  39  40  76  82  84  92 103 116 130 136 141 144]\n",
      "Fold number: 8\n",
      "Training indices: [  0   2   3   4   5   6   7   8   9  10  11  12  13  14  15  18  19  21\n",
      "  22  23  24  26  27  28  29  30  31  32  33  34  36  37  38  39  40  41\n",
      "  42  43  44  45  46  47  48  49  50  51  52  53  54  55  56  57  58  60\n",
      "  61  62  63  64  65  66  67  68  69  71  72  73  74  75  76  77  79  80\n",
      "  81  82  83  84  85  86  87  88  89  90  91  92  93  94  96  97  99 100\n",
      " 101 103 104 105 106 107 108 109 110 111 112 113 114 115 116 117 118 119\n",
      " 120 121 122 123 124 125 126 127 128 130 131 132 134 135 136 137 139 140\n",
      " 141 142 143 144 145 146 147 148 149]\n",
      "Testing indices:: [  1  16  17  20  25  35  59  70  78  95  98 102 129 133 138]\n",
      "Fold number: 9\n",
      "Training indices: [  0   1   2   3   4   5   6   7   8   9  10  12  13  14  15  16  17  18\n",
      "  19  20  21  22  23  25  26  27  28  29  30  32  33  34  35  38  39  40\n",
      "  41  42  43  44  45  46  47  48  51  53  54  55  56  57  58  59  60  62\n",
      "  63  64  65  66  67  68  69  70  71  72  73  74  75  76  77  78  79  80\n",
      "  81  82  83  84  85  87  88  89  90  91  92  93  94  95  96  97  98  99\n",
      " 100 102 103 104 105 106 107 109 110 111 112 113 114 115 116 117 119 120\n",
      " 121 122 124 125 126 127 128 129 130 131 132 133 134 136 137 138 139 140\n",
      " 141 142 143 144 145 146 147 148 149]\n",
      "Testing indices:: [ 11  24  31  36  37  49  50  52  61  86 101 108 118 123 135]\n",
      "Fold number: 10\n",
      "Training indices: [  0   1   2   3   5   6   8   9  10  11  13  14  16  17  18  19  20  21\n",
      "  22  23  24  25  26  27  28  29  31  32  33  34  35  36  37  38  39  40\n",
      "  41  42  43  44  45  46  47  49  50  51  52  53  54  55  56  57  59  60\n",
      "  61  62  65  66  67  68  69  70  71  72  73  74  75  76  77  78  79  81\n",
      "  82  83  84  85  86  88  89  90  91  92  93  95  96  97  98  99 100 101\n",
      " 102 103 104 105 106 107 108 109 110 111 112 113 114 115 116 117 118 119\n",
      " 120 121 122 123 124 126 127 128 129 130 131 132 133 134 135 136 138 139\n",
      " 140 141 142 143 144 145 146 148 149]\n",
      "Testing indices:: [  4   7  12  15  30  48  58  63  64  80  87  94 125 137 147]\n"
     ]
    }
   ],
   "source": [
    "# Iris dataset을 10개의 훈련/테스트 데이터셋으로 나누기\n",
    "\n",
    "from sklearn.model_selection import KFold\n",
    "kf = KFold(n_splits=10, shuffle=True)\n",
    "\n",
    "fold_number = 1\n",
    "for train_indices, test_indices in kf.split(df_iris_features):\n",
    "    \n",
    "    print(\"Fold number:\", fold_number)\n",
    "    print(\"Training indices:\", train_indices)\n",
    "    print(\"Testing indices::\", test_indices)\n",
    "    \n",
    "    fold_number = fold_number + 1\n",
    "    \n",
    "    df_iris_features_train = df_iris_features.iloc[train_indices]\n",
    "    df_iris_target_train = df_iris_target.iloc[train_indices]\n",
    "    \n",
    "    df_iris_features_test = df_iris_features.iloc[test_indices]\n",
    "    df_iris_target_test = df_iris_target.iloc[test_indices]\n"
   ]
  },
  {
   "cell_type": "code",
   "execution_count": null,
   "metadata": {},
   "outputs": [],
   "source": [
    "print('Done')"
   ]
  }
 ],
 "metadata": {
  "hide_input": false,
  "kernelspec": {
   "display_name": "Python 3",
   "language": "python",
   "name": "python3"
  },
  "language_info": {
   "codemirror_mode": {
    "name": "ipython",
    "version": 3
   },
   "file_extension": ".py",
   "mimetype": "text/x-python",
   "name": "python",
   "nbconvert_exporter": "python",
   "pygments_lexer": "ipython3",
   "version": "3.7.6"
  },
  "toc": {
   "base_numbering": 1,
   "nav_menu": {},
   "number_sections": true,
   "sideBar": true,
   "skip_h1_title": false,
   "title_cell": "Table of Contents",
   "title_sidebar": "Contents",
   "toc_cell": false,
   "toc_position": {},
   "toc_section_display": true,
   "toc_window_display": false
  },
  "varInspector": {
   "cols": {
    "lenName": 16,
    "lenType": 16,
    "lenVar": 40
   },
   "kernels_config": {
    "python": {
     "delete_cmd_postfix": "",
     "delete_cmd_prefix": "del ",
     "library": "var_list.py",
     "varRefreshCmd": "print(var_dic_list())"
    },
    "r": {
     "delete_cmd_postfix": ") ",
     "delete_cmd_prefix": "rm(",
     "library": "var_list.r",
     "varRefreshCmd": "cat(var_dic_list()) "
    }
   },
   "types_to_exclude": [
    "module",
    "function",
    "builtin_function_or_method",
    "instance",
    "_Feature"
   ],
   "window_display": false
  }
 },
 "nbformat": 4,
 "nbformat_minor": 2
}
